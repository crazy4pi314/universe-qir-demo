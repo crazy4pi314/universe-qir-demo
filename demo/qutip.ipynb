{
 "cells": [
  {
   "cell_type": "code",
   "execution_count": 1,
   "metadata": {},
   "outputs": [],
   "source": [
    "from qutip_qip.circuit import QubitCircuit\n",
    "from qutip_qip.qir import circuit_to_qir"
   ]
  },
  {
   "cell_type": "code",
   "execution_count": 2,
   "metadata": {},
   "outputs": [],
   "source": [
    "#Playing the CHSH game\n",
    "circuit = QubitCircuit(3, num_cbits=2)\n",
    "msg, here, there = range(3)\n",
    "\n",
    "# Encode message\n",
    "circuit.add_gate(\"RZ\", targets=[msg], arg_value=0.123)\n",
    "\n",
    "# Entangle qubits\n",
    "circuit.add_gate(\"SNOT\", targets=[here])\n",
    "circuit.add_gate(\"CNOT\", targets=[there], controls=[here])\n",
    "circuit.add_gate(\"CNOT\", targets=[here], controls=[msg])\n",
    "circuit.add_gate(\"SNOT\", targets=[msg])\n",
    "\n",
    "# Players measure their qubits\n",
    "circuit.add_measurement(\"Z\", targets=[msg], classical_store=0)\n",
    "circuit.add_measurement(\"Z\", targets=[here], classical_store=1)\n",
    "\n",
    "# Post process based on measurements\n",
    "circuit.add_gate(\"X\", targets=[there], classical_controls=[0])\n",
    "circuit.add_gate(\"Z\", targets=[there], classical_controls=[1])\n",
    "\n",
    "with open('qutip_program.bc', 'wb') as file:\n",
    "    file.write(circuit_to_qir(circuit, \"bitcode\"))\n",
    "    \n",
    "with open('qutip_program.ll', 'w') as file:\n",
    "    file.write(circuit_to_qir(circuit, \"text\"))"
   ]
  },
  {
   "cell_type": "markdown",
   "metadata": {},
   "source": [
    "Great! we now have a way of lowering high-level user code to QIR, but what does that look like?"
   ]
  },
  {
   "cell_type": "code",
   "execution_count": 3,
   "metadata": {},
   "outputs": [
    {
     "name": "stdout",
     "output_type": "stream",
     "text": [
      "; ModuleID = 'qutip_circuit'\n",
      "source_filename = \"qutip_circuit\"\n",
      "\n",
      "%Qubit = type opaque\n",
      "%Result = type opaque\n",
      "\n",
      "define void @main() #0 {\n",
      "entry:\n",
      "  call void @__quantum__qis__rz__body(double 1.230000e-01, %Qubit* null)\n",
      "  call void @__quantum__qis__h__body(%Qubit* inttoptr (i64 1 to %Qubit*))\n",
      "  call void @__quantum__qis__cnot__body(%Qubit* inttoptr (i64 1 to %Qubit*), %Qubit* inttoptr (i64 2 to %Qubit*))\n",
      "  call void @__quantum__qis__cnot__body(%Qubit* null, %Qubit* inttoptr (i64 1 to %Qubit*))\n",
      "  call void @__quantum__qis__h__body(%Qubit* null)\n",
      "  call void @__quantum__qis__mz__body(%Qubit* null, %Result* null)\n",
      "  call void @__quantum__qis__mz__body(%Qubit* inttoptr (i64 1 to %Qubit*), %Result* inttoptr (i64 1 to %Result*))\n",
      "  %0 = call i1 @__quantum__qis__read_result__body(%Result* null)\n",
      "  br i1 %0,\n"
     ]
    }
   ],
   "source": [
    "print(circuit_to_qir(circuit, \"text\")[0:800])"
   ]
  },
  {
   "cell_type": "markdown",
   "metadata": {},
   "source": [
    "This isn't the nicest way to debug things (though really it should be only the compiler looking). Let's look at a control flow graph:"
   ]
  },
  {
   "cell_type": "code",
   "execution_count": 4,
   "metadata": {},
   "outputs": [
    {
     "name": "stdout",
     "output_type": "stream",
     "text": [
      "WARNING: You're attempting to print out a bitcode file.\n",
      "This is inadvisable as it may cause display problems. If\n",
      "you REALLY want to taste LLVM bitcode first-hand, you\n",
      "can force output with the `-f' option.\n",
      "\n",
      "Writing '.main.dot'...\n"
     ]
    }
   ],
   "source": [
    "!opt -dot-cfg qutip_program.ll "
   ]
  },
  {
   "cell_type": "code",
   "execution_count": 5,
   "metadata": {},
   "outputs": [],
   "source": [
    "!dot -Tpng .main.dot -oqutip_program.png"
   ]
  },
  {
   "cell_type": "markdown",
   "metadata": {},
   "source": [
    "![flow-diagram](qutip_program.png)"
   ]
  },
  {
   "cell_type": "code",
   "execution_count": 6,
   "metadata": {},
   "outputs": [
    {
     "name": "stdout",
     "output_type": "stream",
     "text": [
      "/bin/bash: line 1: qat: command not found\n"
     ]
    }
   ],
   "source": [
    "! qat --apply --profile default -S ./qutip_program.ll"
   ]
  },
  {
   "cell_type": "code",
   "execution_count": 11,
   "metadata": {},
   "outputs": [
    {
     "data": {
      "text/plain": [
       "2083"
      ]
     },
     "execution_count": 11,
     "metadata": {},
     "output_type": "execute_result"
    }
   ],
   "source": [
    "import os\n",
    "\n",
    "from numpy import size\n",
    "os.stat(\"qutip_program.ll\").st_size"
   ]
  },
  {
   "cell_type": "code",
   "execution_count": null,
   "metadata": {},
   "outputs": [],
   "source": []
  },
  {
   "cell_type": "code",
   "execution_count": null,
   "metadata": {},
   "outputs": [],
   "source": []
  }
 ],
 "metadata": {
  "kernelspec": {
   "display_name": "Python 3.9.13 ('qir-demo')",
   "language": "python",
   "name": "python3"
  },
  "language_info": {
   "codemirror_mode": {
    "name": "ipython",
    "version": 3
   },
   "file_extension": ".py",
   "mimetype": "text/x-python",
   "name": "python",
   "nbconvert_exporter": "python",
   "pygments_lexer": "ipython3",
   "version": "3.9.13"
  },
  "orig_nbformat": 4,
  "vscode": {
   "interpreter": {
    "hash": "bab0af9feef5444aa73e4ba359d312d4bc406cf6e79ff8301d7820a51021fc04"
   }
  }
 },
 "nbformat": 4,
 "nbformat_minor": 2
}

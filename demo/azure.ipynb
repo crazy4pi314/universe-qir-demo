{
 "cells": [
  {
   "cell_type": "markdown",
   "metadata": {},
   "source": [
    "# Submitting quantum programs to the cloud\n",
    "\n",
    "Now that we have generated our qir file, we want to submit it to a cloud provider to run it against a simulator or hardware device."
   ]
  },
  {
   "cell_type": "markdown",
   "metadata": {},
   "source": [
    "We start by importing the appropriate Python package to work connect to an Azure Quantum resource."
   ]
  },
  {
   "cell_type": "code",
   "execution_count": 9,
   "metadata": {},
   "outputs": [],
   "source": [
    "import azure.quantum\n",
    "with open('./output/qutip_program.bc', 'rb') as f:\n",
    "    bitcode = f.read()"
   ]
  },
  {
   "cell_type": "code",
   "execution_count": 5,
   "metadata": {},
   "outputs": [],
   "source": [
    "workspace = azure.quantum.Workspace(\n",
    "    subscription_id=\"bd1621e9-9094-48e4-99f4-00256be51682\",\n",
    "    resource_group=\"AzureQuantum\",\n",
    "    name=\"qir-demo\",\n",
    "    location=\"eastus\"\n",
    ")"
   ]
  },
  {
   "cell_type": "code",
   "execution_count": 6,
   "metadata": {},
   "outputs": [
    {
     "data": {
      "text/plain": [
       "[<Target name=\"ionq.qpu\", avg. queue time=23 s, Available>,\n",
       " <Target name=\"ionq.qpu.aria-1\", avg. queue time=115028 s, Available>,\n",
       " <Target name=\"ionq.simulator\", avg. queue time=14 s, Available>,\n",
       " <Target name=\"quantinuum.hqs-lt-s1\", avg. queue time=0 s, Unavailable>,\n",
       " <Target name=\"quantinuum.hqs-lt-s1-apival\", avg. queue time=0 s, Available>,\n",
       " <Target name=\"quantinuum.hqs-lt-s2\", avg. queue time=241352 s, Unavailable>,\n",
       " <Target name=\"quantinuum.hqs-lt-s2-apival\", avg. queue time=0 s, Available>,\n",
       " <Target name=\"quantinuum.hqs-lt-s1-sim\", avg. queue time=876 s, Available>,\n",
       " <Target name=\"quantinuum.hqs-lt-s2-sim\", avg. queue time=55 s, Available>,\n",
       " <Target name=\"quantinuum.hqs-lt\", avg. queue time=0 s, Unavailable>,\n",
       " <Target name=\"quantinuum.qpu.h1-1\", avg. queue time=0 s, Unavailable>,\n",
       " <Target name=\"quantinuum.sim.h1-1sc\", avg. queue time=0 s, Available>,\n",
       " <Target name=\"quantinuum.qpu.h1-2\", avg. queue time=241352 s, Unavailable>,\n",
       " <Target name=\"quantinuum.sim.h1-2sc\", avg. queue time=0 s, Available>,\n",
       " <Target name=\"quantinuum.sim.h1-1e\", avg. queue time=876 s, Available>,\n",
       " <Target name=\"quantinuum.sim.h1-2e\", avg. queue time=55 s, Available>,\n",
       " <Target name=\"quantinuum.qpu.h1\", avg. queue time=0 s, Unavailable>,\n",
       " <Target name=\"rigetti.sim.qvm\", avg. queue time=5 s, Available>,\n",
       " <Target name=\"rigetti.qpu.aspen-11\", avg. queue time=5 s, Available>,\n",
       " <Target name=\"rigetti.qpu.aspen-m-2\", avg. queue time=5 s, Available>,\n",
       " <Target name=\"microsoft.paralleltempering-parameterfree.cpu\", avg. queue time=0 s, Available>,\n",
       " <Target name=\"microsoft.simulatedannealing-parameterfree.cpu\", avg. queue time=0 s, Available>,\n",
       " <Target name=\"microsoft.tabu-parameterfree.cpu\", avg. queue time=0 s, Available>,\n",
       " <Target name=\"microsoft.qmc.cpu\", avg. queue time=0 s, Available>,\n",
       " <Target name=\"microsoft.populationannealing.cpu\", avg. queue time=0 s, Available>,\n",
       " <Target name=\"microsoft.substochasticmontecarlo.cpu\", avg. queue time=0 s, Available>]"
      ]
     },
     "execution_count": 6,
     "metadata": {},
     "output_type": "execute_result"
    }
   ],
   "source": [
    "workspace.get_targets()"
   ]
  },
  {
   "cell_type": "code",
   "execution_count": 8,
   "metadata": {},
   "outputs": [],
   "source": [
    "job = azure.quantum.Job.from_input_data(\n",
    "    workspace=workspace,\n",
    "    name=\"qir-demo\",\n",
    "    provider_id=\"quantinuum\",\n",
    "    target=\"quantinuum.sim.h1-1sc\",\n",
    "    input_data_format=\"qir.v1\",\n",
    "    output_data_format=\"microsoft.quantum-results.v1\",\n",
    "    input_data=bitcode,\n",
    "    input_params={\n",
    "        \"shots\": 500,\n",
    "        \"entryPoint\": \"main\",\n",
    "        \"arguments\": [],\n",
    "        \"targetCapability\": \"AdaptiveExecution\"\n",
    "    }\n",
    ")"
   ]
  },
  {
   "cell_type": "code",
   "execution_count": 7,
   "metadata": {},
   "outputs": [
    {
     "data": {
      "text/plain": [
       "False"
      ]
     },
     "execution_count": 7,
     "metadata": {},
     "output_type": "execute_result"
    }
   ],
   "source": [
    "job.has_completed()"
   ]
  },
  {
   "cell_type": "code",
   "execution_count": null,
   "metadata": {},
   "outputs": [],
   "source": []
  }
 ],
 "metadata": {
  "kernelspec": {
   "display_name": "Python 3.9.13 ('qir-demo')",
   "language": "python",
   "name": "python3"
  },
  "language_info": {
   "codemirror_mode": {
    "name": "ipython",
    "version": 3
   },
   "file_extension": ".py",
   "mimetype": "text/x-python",
   "name": "python",
   "nbconvert_exporter": "python",
   "pygments_lexer": "ipython3",
   "version": "3.9.13"
  },
  "orig_nbformat": 4,
  "vscode": {
   "interpreter": {
    "hash": "bab0af9feef5444aa73e4ba359d312d4bc406cf6e79ff8301d7820a51021fc04"
   }
  }
 },
 "nbformat": 4,
 "nbformat_minor": 2
}

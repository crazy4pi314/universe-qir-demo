{
 "cells": [
  {
   "cell_type": "markdown",
   "metadata": {},
   "source": [
    "# Open source quantum development with Codespaces\n",
    "\n",
    "This notebook walks through a simple demonstration of how to go from user developed quantum programs to submitting them to be run on cloud resources, all from Python and Jupyter Notebooks.\n"
   ]
  },
  {
   "cell_type": "markdown",
   "metadata": {},
   "source": [
    "---\n",
    "\n",
    "## Develop quantum programs in Python"
   ]
  },
  {
   "cell_type": "code",
   "execution_count": 1,
   "metadata": {},
   "outputs": [],
   "source": [
    "from qutip_qip.circuit import QubitCircuit\n",
    "from qutip_qip.qir import circuit_to_qir"
   ]
  },
  {
   "cell_type": "markdown",
   "metadata": {},
   "source": [
    "https://qutip-qip.readthedocs.io/en/latest/qip-simulator.html?highlight=qir#import-and-export-quantum-circuits"
   ]
  },
  {
   "cell_type": "code",
   "execution_count": 6,
   "metadata": {},
   "outputs": [],
   "source": [
    "#Playing the CHSH game \n",
    "circuit = QubitCircuit(3, num_cbits=2)\n",
    "msg, here, there = range(3)\n",
    "\n",
    "# Encode message\n",
    "circuit.add_gate(\"RZ\", targets=[msg], arg_value=0.123)\n",
    "\n",
    "# Entangle qubits\n",
    "circuit.add_gate(\"SNOT\", targets=[here])\n",
    "circuit.add_gate(\"CNOT\", targets=[there], controls=[here])\n",
    "circuit.add_gate(\"CNOT\", targets=[here], controls=[msg])\n",
    "circuit.add_gate(\"SNOT\", targets=[msg])\n",
    "\n",
    "# Players measure their qubits\n",
    "circuit.add_measurement(\"Z\", targets=[msg], classical_store=0)\n",
    "circuit.add_measurement(\"Z\", targets=[here], classical_store=1)\n",
    "\n",
    "with open('output/qutip_program_simple.bc', 'wb') as file:\n",
    "    file.write(circuit_to_qir(circuit, \"bitcode\"))\n",
    "    \n",
    "with open('output/qutip_program_simple.ll', 'w') as file:\n",
    "    file.write(circuit_to_qir(circuit, \"text\"))\n"
   ]
  },
  {
   "cell_type": "markdown",
   "metadata": {},
   "source": [
    "---\n",
    "\n",
    "## Compile programs to QIR"
   ]
  },
  {
   "cell_type": "markdown",
   "metadata": {},
   "source": [
    "---\n",
    "\n",
    "## Optimize programs"
   ]
  },
  {
   "cell_type": "markdown",
   "metadata": {},
   "source": [
    "Great! we now have a way of lowering high-level user code to QIR, but what does that look like?\n",
    "Let's check out part of the QIR file we just generated:"
   ]
  },
  {
   "cell_type": "code",
   "execution_count": 7,
   "metadata": {},
   "outputs": [
    {
     "name": "stdout",
     "output_type": "stream",
     "text": [
      "; ModuleID = 'qutip_circuit'\n",
      "source_filename = \"qutip_circuit\"\n",
      "\n",
      "%Result = type opaque\n",
      "%Qubit = type opaque\n",
      "\n",
      "declare void @__quantum__rt__array_start_record_output()\n",
      "\n",
      "declare void @__quantum__rt__array_end_record_output()\n",
      "\n",
      "declare void @__quantum__rt__result_record_output(%Result*)\n",
      "\n",
      "define void @main() #0 {\n",
      "entry:\n",
      "  call void @__quantum__qis__rz__body(double 1.230000e-01, %Qubit* null)\n",
      "  call void @__quantum__qis__h__body(%Qubit* inttoptr (i64 1 to %Qubit*))\n",
      "  call void @__quantum__qis__cnot__body(%Qubit* inttoptr (i64 1 to %Qubit*), %Qubit* inttoptr (i64 2 to %Qubit*))\n",
      "  call void @__quantum__qis__cnot__body(%Qubit* null, %Qubit* inttoptr (i64 1 to %Qubit*))\n",
      "  call void @__quantum__qis__h__body(%Qubit* null)\n",
      "  call void @__quantum__qis__mz__body(%Qubit* null, %Result* null)\n",
      "  call void @__quantum__qis__mz__body(%Qubit* inttoptr (i64 1 to %Qubit*), %Result* inttoptr (i64 1 to %Result*))\n",
      "  call void @__quantum__rt__array_start_record_output()\n",
      "  call void @__quantum__rt__result_record_output(%Result* null)\n",
      "  call void @__quantum__rt__result_record_output(%Result* inttoptr (i64 1 to %Result*))\n",
      "  call void @__quantum__rt__array_end_record_output()\n",
      "  ret void\n",
      "}\n",
      "\n",
      "declare void @__quantum__qis__rz__body(double, %Qubit*)\n",
      "\n",
      "declare void @__quantum__qis__h__body(%Qubit*)\n",
      "\n",
      "declare void @__quantum__qis__cnot__body(%Qubit*, %Qubit*)\n",
      "\n",
      "declare void @__quantum__qis__mz__body(%Qubit*, %Result*)\n",
      "\n",
      "attributes #0 = { \"EntryPoint\" \"requiredQubits\"=\"3\" \"requiredResults\"=\"2\" }\n",
      "\n"
     ]
    }
   ],
   "source": [
    "with open('output/qutip_program_simple.ll', 'r') as f:\n",
    "    print(f.read())"
   ]
  },
  {
   "cell_type": "markdown",
   "metadata": {},
   "source": [
    "This isn't the nicest way to debug things (though really it should be only the compiler looking). Let's look at a control flow graph:"
   ]
  },
  {
   "cell_type": "code",
   "execution_count": 4,
   "metadata": {},
   "outputs": [
    {
     "name": "stdout",
     "output_type": "stream",
     "text": [
      "WARNING: You're attempting to print out a bitcode file.\n",
      "This is inadvisable as it may cause display problems. If\n",
      "you REALLY want to taste LLVM bitcode first-hand, you\n",
      "can force output with the `-f' option.\n",
      "\n",
      "Writing '.main.dot'...\n"
     ]
    }
   ],
   "source": [
    "!opt -dot-cfg output/qutip_program.ll "
   ]
  },
  {
   "cell_type": "code",
   "execution_count": 5,
   "metadata": {},
   "outputs": [
    {
     "name": "stdout",
     "output_type": "stream",
     "text": [
      "Error: dot: can't open output/.main.dot: No such file or directory\n"
     ]
    }
   ],
   "source": [
    "!dot -Tpng output/.main.dot -ooutput/qutip_program.png"
   ]
  },
  {
   "cell_type": "markdown",
   "metadata": {},
   "source": [
    "![flow-diagram](qutip_program.png)"
   ]
  },
  {
   "cell_type": "code",
   "execution_count": 6,
   "metadata": {},
   "outputs": [
    {
     "name": "stdout",
     "output_type": "stream",
     "text": [
      "Failed to load /workspaces/universe-qir-demo/./qutip_program.ll\n",
      "Could not load ./qutip_program.ll\n"
     ]
    }
   ],
   "source": [
    "! qat --apply -S ./qutip_program.ll -o ./qutip_program_optimized.ll --save-config"
   ]
  },
  {
   "cell_type": "code",
   "execution_count": 7,
   "metadata": {},
   "outputs": [
    {
     "ename": "FileNotFoundError",
     "evalue": "[Errno 2] No such file or directory: 'qutip_program.ll'",
     "output_type": "error",
     "traceback": [
      "\u001b[0;31m---------------------------------------------------------------------------\u001b[0m",
      "\u001b[0;31mFileNotFoundError\u001b[0m                         Traceback (most recent call last)",
      "Cell \u001b[0;32mIn [7], line 4\u001b[0m\n\u001b[1;32m      1\u001b[0m \u001b[39mimport\u001b[39;00m \u001b[39mos\u001b[39;00m\n\u001b[1;32m      3\u001b[0m \u001b[39mfrom\u001b[39;00m \u001b[39mnumpy\u001b[39;00m \u001b[39mimport\u001b[39;00m size\n\u001b[0;32m----> 4\u001b[0m \u001b[39mprint\u001b[39m(\u001b[39mf\u001b[39m\u001b[39m'\u001b[39m\u001b[39mBefore: \u001b[39m\u001b[39m{\u001b[39;00mos\u001b[39m.\u001b[39mstat(\u001b[39m\"\u001b[39m\u001b[39mqutip_program.ll\u001b[39m\u001b[39m\"\u001b[39m)\u001b[39m.\u001b[39mst_size\u001b[39m}\u001b[39;00m\u001b[39m, \u001b[39m\u001b[39m{\u001b[39;00mos\u001b[39m.\u001b[39mstat(\u001b[39m\"\u001b[39m\u001b[39mqutip_program_optimized.ll\u001b[39m\u001b[39m\"\u001b[39m)\u001b[39m.\u001b[39mst_size\u001b[39m}\u001b[39;00m\u001b[39m'\u001b[39m)\n",
      "\u001b[0;31mFileNotFoundError\u001b[0m: [Errno 2] No such file or directory: 'qutip_program.ll'"
     ]
    }
   ],
   "source": [
    "import os\n",
    "\n",
    "from numpy import size\n",
    "print(f'Before: {os.stat(\"qutip_program.ll\").st_size}, {os.stat(\"qutip_program_optimized.ll\").st_size}')"
   ]
  },
  {
   "cell_type": "code",
   "execution_count": null,
   "metadata": {},
   "outputs": [],
   "source": [
    "! qat --apply --profile base -S ./qutip_program.ll"
   ]
  },
  {
   "cell_type": "markdown",
   "metadata": {},
   "source": [
    "---\n",
    "\n",
    "## Submitting quantum programs to the cloud\n",
    "\n",
    "Now that we have generated our qir file, we want to submit it to a cloud provider to run it against a simulator or hardware device."
   ]
  },
  {
   "cell_type": "markdown",
   "metadata": {},
   "source": [
    "We start by importing the appropriate Python package to work connect to an Azure Quantum resource."
   ]
  },
  {
   "cell_type": "code",
   "execution_count": 8,
   "metadata": {},
   "outputs": [],
   "source": [
    "with open('./output/qutip_program_simple.bc', 'rb') as f:\n",
    "    bitcode = f.read()"
   ]
  },
  {
   "cell_type": "code",
   "execution_count": 9,
   "metadata": {},
   "outputs": [],
   "source": [
    "from azure.identity import AzureCliCredential"
   ]
  },
  {
   "cell_type": "markdown",
   "metadata": {},
   "source": [
    "NOTE: You will have to open a terminal and run `az login` to make sure your Azure credientials are stored."
   ]
  },
  {
   "cell_type": "code",
   "execution_count": 10,
   "metadata": {},
   "outputs": [],
   "source": [
    "import azure.quantum\n",
    "workspace = azure.quantum.Workspace(\n",
    "    subscription_id=\"bd1621e9-9094-48e4-99f4-00256be51682\",\n",
    "    resource_group=\"AzureQuantum\",\n",
    "    name=\"qir-demo\",\n",
    "    location=\"eastus\",\n",
    "    credential=AzureCliCredential()\n",
    ")"
   ]
  },
  {
   "cell_type": "code",
   "execution_count": 12,
   "metadata": {},
   "outputs": [],
   "source": [
    "job = azure.quantum.Job.from_input_data(\n",
    "    workspace=workspace,\n",
    "    name=\"qir-demo\",\n",
    "    provider_id=\"rigetti\",\n",
    "    target=\"rigetti.sim.qvm\",\n",
    "    input_data_format=\"qir.v1\",\n",
    "    output_data_format=\"microsoft.quantum-results.v1\",\n",
    "    input_data=bitcode,\n",
    "    input_params={\n",
    "        \"shots\": 500,\n",
    "        \"entryPoint\": \"main\",\n",
    "        \"arguments\": [],\n",
    "        # \"targetCapability\": \"AdaptiveExecution\"\n",
    "    }\n",
    ")"
   ]
  },
  {
   "cell_type": "code",
   "execution_count": 13,
   "metadata": {},
   "outputs": [
    {
     "data": {
      "text/plain": [
       "'55c53846-4d7a-11ed-a569-0242ac110002'"
      ]
     },
     "execution_count": 13,
     "metadata": {},
     "output_type": "execute_result"
    }
   ],
   "source": [
    "job.id"
   ]
  },
  {
   "cell_type": "code",
   "execution_count": 14,
   "metadata": {},
   "outputs": [
    {
     "name": "stdout",
     "output_type": "stream",
     "text": [
      "........"
     ]
    },
    {
     "data": {
      "text/plain": [
       "{'Histogram': ['[1, 0]', 1.0]}"
      ]
     },
     "execution_count": 14,
     "metadata": {},
     "output_type": "execute_result"
    }
   ],
   "source": [
    "job.get_results()"
   ]
  },
  {
   "cell_type": "code",
   "execution_count": null,
   "metadata": {},
   "outputs": [],
   "source": []
  }
 ],
 "metadata": {
  "kernelspec": {
   "display_name": "Python 3.9.13 ('qir-demo')",
   "language": "python",
   "name": "python3"
  },
  "language_info": {
   "codemirror_mode": {
    "name": "ipython",
    "version": 3
   },
   "file_extension": ".py",
   "mimetype": "text/x-python",
   "name": "python",
   "nbconvert_exporter": "python",
   "pygments_lexer": "ipython3",
   "version": "3.9.13"
  },
  "orig_nbformat": 4,
  "vscode": {
   "interpreter": {
    "hash": "bab0af9feef5444aa73e4ba359d312d4bc406cf6e79ff8301d7820a51021fc04"
   }
  }
 },
 "nbformat": 4,
 "nbformat_minor": 2
}

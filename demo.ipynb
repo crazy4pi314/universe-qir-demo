{
 "cells": [
  {
   "cell_type": "markdown",
   "metadata": {},
   "source": [
    "# Open source quantum development with Codespaces\n",
    "\n",
    "This notebook walks through a simple demonstration of how to go from user developed quantum programs to submitting them to be run on cloud resources, all from Python and Jupyter Notebooks. \n",
    "\n",
    "All the pieces of the demo are connected by [QIR], or quantum intermediate representation, an open specification maintained by the [QIR Alliance].\n",
    "QIR is related to LLVM in that it re-uses a lot of the LLVM spec and infrastructure so most of the standard optimizations and utilities work out of the box for quantum programs.\n",
    "\n",
    "**About the demo**\n",
    "\n",
    "The basic workflow starts in [QuTiP], a Python package that allows you to express quantum programs in a convinent way.\n",
    "From there, we will compile the program to QIR from a buil-in QuTiP function that using [PyQIR], a QIR Alliance project.\n",
    "Once programs are compiled to [QIR], we will us [qat] to run optimization passes on the QIR bytecode.\n",
    "Lastly, we will send the QIR program to the Azure Quantum service to be executed on quantum hardware.\n",
    "\n",
    "<INSERT STACK DIAGRAM with explicit tools>\n",
    "\n",
    "*More details about the repo structrure and contents can be found in the [README](README.md).*"
   ]
  },
  {
   "cell_type": "markdown",
   "metadata": {},
   "source": [
    "---\n",
    "\n",
    "## Develop quantum programs in Python"
   ]
  },
  {
   "cell_type": "markdown",
   "metadata": {},
   "source": [
    "There are a wide variety of languages and frameworks that the OSS community is using to developing quantum progams.\n",
    "Many of them either directly or via other OSS tools can compile to QIR, you can see a list of options in the [README](README.md) of this repo.\n",
    "Here we will use [QuTiP](https://qutip.org), the open source quantum toolbox for Python.\n",
    "\n",
    "> Learn more about quantum programming with the [QuTiP tutorials](https://qutip.org/tutorials#quantum-information-processing)"
   ]
  },
  {
   "cell_type": "markdown",
   "metadata": {},
   "source": [
    "Lets write a simple teleportation quantum program."
   ]
  },
  {
   "cell_type": "code",
   "execution_count": 1,
   "metadata": {},
   "outputs": [
    {
     "data": {
      "text/plain": [
       "[Gate(RZ, targets=[0], controls=None, classical controls=None, control_value=None, classical_control_value=None),\n",
       " Gate(SNOT, targets=[1], controls=None, classical controls=None, control_value=None, classical_control_value=None),\n",
       " Gate(CNOT, targets=[2], controls=[1], classical controls=None, control_value=1, classical_control_value=None),\n",
       " Gate(CNOT, targets=[1], controls=[0], classical controls=None, control_value=1, classical_control_value=None),\n",
       " Gate(SNOT, targets=[0], controls=None, classical controls=None, control_value=None, classical_control_value=None),\n",
       " Measurement(Z, target=[0], classical_store=0),\n",
       " Measurement(Z, target=[1], classical_store=1),\n",
       " Gate(X, targets=[2], controls=None, classical controls=[0], control_value=None, classical_control_value=1),\n",
       " Gate(Z, targets=[2], controls=None, classical controls=[1], control_value=None, classical_control_value=1)]"
      ]
     },
     "execution_count": 1,
     "metadata": {},
     "output_type": "execute_result"
    }
   ],
   "source": [
    "from qutip_qip.circuit import QubitCircuit\n",
    "\n",
    "# Ask device for some qubits, and create a circuit to manipulate them\n",
    "circuit: QubitCircuit = QubitCircuit(3, num_cbits=2)\n",
    "msg, here, there = range(3)\n",
    "\n",
    "# Encode message\n",
    "circuit.add_gate(\"RZ\", targets=[msg], arg_value=0.123)\n",
    "\n",
    "# Entangle qubits\n",
    "circuit.add_gate(\"SNOT\", targets=[here])\n",
    "circuit.add_gate(\"CNOT\", targets=[there], controls=[here])\n",
    "circuit.add_gate(\"CNOT\", targets=[here], controls=[msg])\n",
    "circuit.add_gate(\"SNOT\", targets=[msg])\n",
    "\n",
    "# Measure qubits\n",
    "circuit.add_measurement(\"Z\", targets=[msg], classical_store=0)\n",
    "circuit.add_measurement(\"Z\", targets=[here], classical_store=1)\n",
    "\n",
    "# Make final operations based on measurement results\n",
    "circuit.add_gate(\"X\", targets=[there], classical_controls=[0])\n",
    "circuit.add_gate(\"Z\", targets=[there], classical_controls=[1])\n",
    "\n",
    "# Inspect the quantum circuit\n",
    "circuit.gates"
   ]
  },
  {
   "cell_type": "markdown",
   "metadata": {},
   "source": [
    "---\n",
    "\n",
    "## Compile programs to QIR"
   ]
  },
  {
   "cell_type": "markdown",
   "metadata": {},
   "source": [
    "For more info on the QIR export in QuTiP, check out the [docs](https://qutip-qip.readthedocs.io/en/latest/qip-simulator.html?highlight=qir#import-and-export-quantum-circuits)."
   ]
  },
  {
   "cell_type": "code",
   "execution_count": 2,
   "metadata": {},
   "outputs": [],
   "source": [
    "from qutip_qip.qir import circuit_to_qir"
   ]
  },
  {
   "cell_type": "code",
   "execution_count": 3,
   "metadata": {},
   "outputs": [],
   "source": [
    "with open('output/qutip_program.bc', 'wb') as file:\n",
    "    file.write(circuit_to_qir(circuit, \"bitcode\"))\n",
    "    \n",
    "with open('output/qutip_program.ll', 'w') as file:\n",
    "    file.write(circuit_to_qir(circuit, \"text\"))"
   ]
  },
  {
   "cell_type": "markdown",
   "metadata": {},
   "source": [
    "Great! we now have a way of lowering high-level user code to QIR, but what does that look like?\n",
    "Let's check out part of the QIR file we just generated:"
   ]
  },
  {
   "cell_type": "code",
   "execution_count": 4,
   "metadata": {},
   "outputs": [
    {
     "name": "stdout",
     "output_type": "stream",
     "text": [
      "; ModuleID = 'qutip_circuit'\n",
      "source_filename = \"qutip_circuit\"\n",
      "\n",
      "%Result = type opaque\n",
      "%Qubit = type opaque\n",
      "\n",
      "declare void @__quantum__rt__array_start_record_output()\n",
      "\n",
      "declare void @__quantum__rt__array_end_record_output()\n",
      "\n",
      "declare void @__quantum__rt__result_record_output(%Result*)\n",
      "\n",
      "define void @main() #0 {\n",
      "entry:\n",
      "  call void @__quantum__qis__rz__body(double 1.230000e-01, %Qubit* null)\n",
      "  call void @__quantum__qis__h__body(%Qubit* inttoptr (i64 1 to %Qubit*))\n",
      "  call void @__quantum__qis__cnot__body(%Qubit* inttoptr (i64 1 to %Qubit*), %Qubit* inttoptr (i64 2 to %Qubit*))\n",
      "  call void @__quantum__qis__cnot__body(%Qubit* null, %Qubit* inttoptr (i64 1 to %Qubit*))\n",
      "  call void @__quantum__qis__h__body(%Qubit* null)\n",
      "  call void @__quantum__qis__mz__body(%Qubit* null, %Result* null)\n",
      "  call void @__quantum__qis__mz__body(%Qubit* inttoptr (i64 1 to %Qubit*), %Result* inttoptr (i64 1 to %Result*))\n",
      "  %0 = call i1 @__quantum__qis__read_result__body(%Result* null)\n",
      "  br i1 %0, label %then, label %else\n",
      "\n",
      "then:                                             ; preds = %entry\n",
      "  call void @__quantum__qis__x__body(%Qubit* inttoptr (i64 2 to %Qubit*))\n",
      "  br label %continue\n",
      "\n",
      "else:                                             ; preds = %entry\n",
      "  br label %continue\n",
      "\n",
      "continue:                                         ; preds = %else, %then\n",
      "  %1 = call i1 @__quantum__qis__read_result__body(%Result* inttoptr (i64 1 to %Result*))\n",
      "  br i1 %1, label %then1, label %else2\n",
      "\n",
      "then1:                                            ; preds = %continue\n",
      "  call void @__quantum__qis__z__body(%Qubit* inttoptr (i64 2 to %Qubit*))\n",
      "  br label %continue3\n",
      "\n",
      "else2:                                            ; preds = %continue\n",
      "  br label %continue3\n",
      "\n",
      "continue3:                                        ; preds = %else2, %then1\n",
      "  call void @__quantum__rt__array_start_record_output()\n",
      "  call void @__quantum__rt__result_record_output(%Result* null)\n",
      "  call void @__quantum__rt__result_record_output(%Result* inttoptr (i64 1 to %Result*))\n",
      "  call void @__quantum__rt__array_end_record_output()\n",
      "  ret void\n",
      "}\n",
      "\n",
      "declare void @__quantum__qis__rz__body(double, %Qubit*)\n",
      "\n",
      "declare void @__quantum__qis__h__body(%Qubit*)\n",
      "\n",
      "declare void @__quantum__qis__cnot__body(%Qubit*, %Qubit*)\n",
      "\n",
      "declare void @__quantum__qis__mz__body(%Qubit*, %Result*)\n",
      "\n",
      "declare i1 @__quantum__qis__read_result__body(%Result*)\n",
      "\n",
      "declare void @__quantum__qis__x__body(%Qubit*)\n",
      "\n",
      "declare void @__quantum__qis__z__body(%Qubit*)\n",
      "\n",
      "attributes #0 = { \"EntryPoint\" \"requiredQubits\"=\"3\" \"requiredResults\"=\"2\" }\n",
      "\n"
     ]
    }
   ],
   "source": [
    "with open('output/qutip_program.ll', 'r') as f:\n",
    "    print(f.read())"
   ]
  },
  {
   "cell_type": "code",
   "execution_count": 2,
   "metadata": {},
   "outputs": [],
   "source": [
    "import pyqir"
   ]
  },
  {
   "cell_type": "code",
   "execution_count": 3,
   "metadata": {},
   "outputs": [
    {
     "data": {
      "text/plain": [
       "{'__name__': 'pyqir',\n",
       " '__doc__': None,\n",
       " '__package__': 'pyqir',\n",
       " '__loader__': <_frozen_importlib_external.SourceFileLoader at 0x7fd7e8173d60>,\n",
       " '__spec__': ModuleSpec(name='pyqir', loader=<_frozen_importlib_external.SourceFileLoader object at 0x7fd7e8173d60>, origin='/opt/conda/envs/qir-demo/lib/python3.9/site-packages/pyqir/__init__.py', submodule_search_locations=['/opt/conda/envs/qir-demo/lib/python3.9/site-packages/pyqir']),\n",
       " '__path__': ['/opt/conda/envs/qir-demo/lib/python3.9/site-packages/pyqir'],\n",
       " '__file__': '/opt/conda/envs/qir-demo/lib/python3.9/site-packages/pyqir/__init__.py',\n",
       " '__cached__': '/opt/conda/envs/qir-demo/lib/python3.9/site-packages/pyqir/__pycache__/__init__.cpython-39.pyc',\n",
       " '__builtins__': {'__name__': 'builtins',\n",
       "  '__doc__': \"Built-in functions, exceptions, and other objects.\\n\\nNoteworthy: None is the `nil' object; Ellipsis represents `...' in slices.\",\n",
       "  '__package__': '',\n",
       "  '__loader__': _frozen_importlib.BuiltinImporter,\n",
       "  '__spec__': ModuleSpec(name='builtins', loader=<class '_frozen_importlib.BuiltinImporter'>, origin='built-in'),\n",
       "  '__build_class__': <function __build_class__>,\n",
       "  '__import__': <function __import__>,\n",
       "  'abs': <function abs(x, /)>,\n",
       "  'all': <function all(iterable, /)>,\n",
       "  'any': <function any(iterable, /)>,\n",
       "  'ascii': <function ascii(obj, /)>,\n",
       "  'bin': <function bin(number, /)>,\n",
       "  'breakpoint': <function breakpoint>,\n",
       "  'callable': <function callable(obj, /)>,\n",
       "  'chr': <function chr(i, /)>,\n",
       "  'compile': <function compile(source, filename, mode, flags=0, dont_inherit=False, optimize=-1, *, _feature_version=-1)>,\n",
       "  'delattr': <function delattr(obj, name, /)>,\n",
       "  'dir': <function dir>,\n",
       "  'divmod': <function divmod(x, y, /)>,\n",
       "  'eval': <function eval(source, globals=None, locals=None, /)>,\n",
       "  'exec': <function exec(source, globals=None, locals=None, /)>,\n",
       "  'format': <function format(value, format_spec='', /)>,\n",
       "  'getattr': <function getattr>,\n",
       "  'globals': <function globals()>,\n",
       "  'hasattr': <function hasattr(obj, name, /)>,\n",
       "  'hash': <function hash(obj, /)>,\n",
       "  'hex': <function hex(number, /)>,\n",
       "  'id': <function id(obj, /)>,\n",
       "  'input': <bound method Kernel.raw_input of <ipykernel.ipkernel.IPythonKernel object at 0x7fd7ed07cd60>>,\n",
       "  'isinstance': <function isinstance(obj, class_or_tuple, /)>,\n",
       "  'issubclass': <function issubclass(cls, class_or_tuple, /)>,\n",
       "  'iter': <function iter>,\n",
       "  'len': <function len(obj, /)>,\n",
       "  'locals': <function locals()>,\n",
       "  'max': <function max>,\n",
       "  'min': <function min>,\n",
       "  'next': <function next>,\n",
       "  'oct': <function oct(number, /)>,\n",
       "  'ord': <function ord(c, /)>,\n",
       "  'pow': <function pow(base, exp, mod=None)>,\n",
       "  'print': <function print>,\n",
       "  'repr': <function repr(obj, /)>,\n",
       "  'round': <function round(number, ndigits=None)>,\n",
       "  'setattr': <function setattr(obj, name, value, /)>,\n",
       "  'sorted': <function sorted(iterable, /, *, key=None, reverse=False)>,\n",
       "  'sum': <function sum(iterable, /, start=0)>,\n",
       "  'vars': <function vars>,\n",
       "  'None': None,\n",
       "  'Ellipsis': Ellipsis,\n",
       "  'NotImplemented': NotImplemented,\n",
       "  'False': False,\n",
       "  'True': True,\n",
       "  'bool': bool,\n",
       "  'memoryview': memoryview,\n",
       "  'bytearray': bytearray,\n",
       "  'bytes': bytes,\n",
       "  'classmethod': classmethod,\n",
       "  'complex': complex,\n",
       "  'dict': dict,\n",
       "  'enumerate': enumerate,\n",
       "  'filter': filter,\n",
       "  'float': float,\n",
       "  'frozenset': frozenset,\n",
       "  'property': property,\n",
       "  'int': int,\n",
       "  'list': list,\n",
       "  'map': map,\n",
       "  'object': object,\n",
       "  'range': range,\n",
       "  'reversed': reversed,\n",
       "  'set': set,\n",
       "  'slice': slice,\n",
       "  'staticmethod': staticmethod,\n",
       "  'str': str,\n",
       "  'super': super,\n",
       "  'tuple': tuple,\n",
       "  'type': type,\n",
       "  'zip': zip,\n",
       "  '__debug__': True,\n",
       "  'BaseException': BaseException,\n",
       "  'Exception': Exception,\n",
       "  'TypeError': TypeError,\n",
       "  'StopAsyncIteration': StopAsyncIteration,\n",
       "  'StopIteration': StopIteration,\n",
       "  'GeneratorExit': GeneratorExit,\n",
       "  'SystemExit': SystemExit,\n",
       "  'KeyboardInterrupt': KeyboardInterrupt,\n",
       "  'ImportError': ImportError,\n",
       "  'ModuleNotFoundError': ModuleNotFoundError,\n",
       "  'OSError': OSError,\n",
       "  'EnvironmentError': OSError,\n",
       "  'IOError': OSError,\n",
       "  'EOFError': EOFError,\n",
       "  'RuntimeError': RuntimeError,\n",
       "  'RecursionError': RecursionError,\n",
       "  'NotImplementedError': NotImplementedError,\n",
       "  'NameError': NameError,\n",
       "  'UnboundLocalError': UnboundLocalError,\n",
       "  'AttributeError': AttributeError,\n",
       "  'SyntaxError': SyntaxError,\n",
       "  'IndentationError': IndentationError,\n",
       "  'TabError': TabError,\n",
       "  'LookupError': LookupError,\n",
       "  'IndexError': IndexError,\n",
       "  'KeyError': KeyError,\n",
       "  'ValueError': ValueError,\n",
       "  'UnicodeError': UnicodeError,\n",
       "  'UnicodeEncodeError': UnicodeEncodeError,\n",
       "  'UnicodeDecodeError': UnicodeDecodeError,\n",
       "  'UnicodeTranslateError': UnicodeTranslateError,\n",
       "  'AssertionError': AssertionError,\n",
       "  'ArithmeticError': ArithmeticError,\n",
       "  'FloatingPointError': FloatingPointError,\n",
       "  'OverflowError': OverflowError,\n",
       "  'ZeroDivisionError': ZeroDivisionError,\n",
       "  'SystemError': SystemError,\n",
       "  'ReferenceError': ReferenceError,\n",
       "  'MemoryError': MemoryError,\n",
       "  'BufferError': BufferError,\n",
       "  'Warning': Warning,\n",
       "  'UserWarning': UserWarning,\n",
       "  'DeprecationWarning': DeprecationWarning,\n",
       "  'PendingDeprecationWarning': PendingDeprecationWarning,\n",
       "  'SyntaxWarning': SyntaxWarning,\n",
       "  'RuntimeWarning': RuntimeWarning,\n",
       "  'FutureWarning': FutureWarning,\n",
       "  'ImportWarning': ImportWarning,\n",
       "  'UnicodeWarning': UnicodeWarning,\n",
       "  'BytesWarning': BytesWarning,\n",
       "  'ResourceWarning': ResourceWarning,\n",
       "  'ConnectionError': ConnectionError,\n",
       "  'BlockingIOError': BlockingIOError,\n",
       "  'BrokenPipeError': BrokenPipeError,\n",
       "  'ChildProcessError': ChildProcessError,\n",
       "  'ConnectionAbortedError': ConnectionAbortedError,\n",
       "  'ConnectionRefusedError': ConnectionRefusedError,\n",
       "  'ConnectionResetError': ConnectionResetError,\n",
       "  'FileExistsError': FileExistsError,\n",
       "  'FileNotFoundError': FileNotFoundError,\n",
       "  'IsADirectoryError': IsADirectoryError,\n",
       "  'NotADirectoryError': NotADirectoryError,\n",
       "  'InterruptedError': InterruptedError,\n",
       "  'PermissionError': PermissionError,\n",
       "  'ProcessLookupError': ProcessLookupError,\n",
       "  'TimeoutError': TimeoutError,\n",
       "  'open': <function io.open(file, mode='r', buffering=-1, encoding=None, errors=None, newline=None, closefd=True, opener=None)>,\n",
       "  'copyright': Copyright (c) 2001-2022 Python Software Foundation.\n",
       "  All Rights Reserved.\n",
       "  \n",
       "  Copyright (c) 2000 BeOpen.com.\n",
       "  All Rights Reserved.\n",
       "  \n",
       "  Copyright (c) 1995-2001 Corporation for National Research Initiatives.\n",
       "  All Rights Reserved.\n",
       "  \n",
       "  Copyright (c) 1991-1995 Stichting Mathematisch Centrum, Amsterdam.\n",
       "  All Rights Reserved.,\n",
       "  'credits':     Thanks to CWI, CNRI, BeOpen.com, Zope Corporation and a cast of thousands\n",
       "      for supporting Python development.  See www.python.org for more information.,\n",
       "  'license': Type license() to see the full license text,\n",
       "  'help': Type help() for interactive help, or help(object) for help about object.,\n",
       "  'execfile': <function _pydev_bundle._pydev_execfile.execfile(file, glob=None, loc=None)>,\n",
       "  'runfile': <function _pydev_bundle.pydev_umd.runfile(filename, args=None, wdir=None, namespace=None)>,\n",
       "  '__IPYTHON__': True,\n",
       "  'display': <function IPython.core.display_functions.display(*objs, include=None, exclude=None, metadata=None, transient=None, display_id=None, raw=False, clear=False, **kwargs)>,\n",
       "  '__pybind11_internals_v4_gcc_libstdcpp_cxxabi1014__': <capsule object NULL at 0x7fd7858d40f0>,\n",
       "  'get_ipython': <bound method InteractiveShell.get_ipython of <ipykernel.zmqshell.ZMQInteractiveShell object at 0x7fd7ecfed310>>}}"
      ]
     },
     "execution_count": 3,
     "metadata": {},
     "output_type": "execute_result"
    }
   ],
   "source": [
    "pyqir.__dict__"
   ]
  },
  {
   "cell_type": "markdown",
   "metadata": {},
   "source": [
    "---\n",
    "\n",
    "## Optimize programs"
   ]
  },
  {
   "cell_type": "markdown",
   "metadata": {},
   "source": [
    "This isn't the nicest way to debug things (though really it should be only the compiler looking). Let's look at a control flow graph:"
   ]
  },
  {
   "cell_type": "code",
   "execution_count": 5,
   "metadata": {},
   "outputs": [
    {
     "name": "stdout",
     "output_type": "stream",
     "text": [
      "Writing '.main.dot'...\n"
     ]
    }
   ],
   "source": [
    "!opt -dot-cfg output/qutip_program.ll -o output/qutip_program.dot && mv .main.dot output/qutip_program.dot"
   ]
  },
  {
   "cell_type": "code",
   "execution_count": 136,
   "metadata": {},
   "outputs": [],
   "source": [
    "!dot -Tpng output/qutip_program.dot -o output/qutip_program.png"
   ]
  },
  {
   "cell_type": "code",
   "execution_count": 11,
   "metadata": {},
   "outputs": [],
   "source": [
    "! qat --apply --target-def ./qat_config.yml -S output/qutip_program.ll -o output/qutip_program_optimized.ll"
   ]
  },
  {
   "cell_type": "code",
   "execution_count": 12,
   "metadata": {},
   "outputs": [
    {
     "name": "stdout",
     "output_type": "stream",
     "text": [
      "Before: 2520, 2192\n"
     ]
    }
   ],
   "source": [
    "import os\n",
    "\n",
    "from numpy import size\n",
    "print(f'Before: {os.stat(\"output/qutip_program.ll\").st_size}, {os.stat(\"output/qutip_program_optimized.ll\").st_size}')"
   ]
  },
  {
   "cell_type": "markdown",
   "metadata": {},
   "source": [
    "---\n",
    "\n",
    "## Submitting quantum programs to the cloud\n",
    "\n",
    "Now that we have generated our qir file, we want to submit it to a cloud provider to run it against a simulator or hardware device."
   ]
  },
  {
   "cell_type": "markdown",
   "metadata": {},
   "source": [
    "We start by importing the appropriate Python package to work connect to an Azure Quantum resource."
   ]
  },
  {
   "cell_type": "code",
   "execution_count": 13,
   "metadata": {},
   "outputs": [],
   "source": [
    "from azure.identity import AzureCliCredential"
   ]
  },
  {
   "cell_type": "markdown",
   "metadata": {},
   "source": [
    "NOTE: You will have to open a terminal and run `az login` to make sure your Azure credientials are stored."
   ]
  },
  {
   "cell_type": "code",
   "execution_count": 14,
   "metadata": {},
   "outputs": [],
   "source": [
    "import azure.quantum\n",
    "workspace = azure.quantum.Workspace(\n",
    "    subscription_id=\"bd1621e9-9094-48e4-99f4-00256be51682\",\n",
    "    resource_group=\"AzureQuantum\",\n",
    "    name=\"qir-demo\",\n",
    "    location=\"eastus\",\n",
    "    credential=AzureCliCredential()\n",
    ")"
   ]
  },
  {
   "cell_type": "code",
   "execution_count": 19,
   "metadata": {},
   "outputs": [],
   "source": [
    "with open('./output/qutip_program_simple.bc', 'rb') as f:\n",
    "    bitcode = f.read()"
   ]
  },
  {
   "cell_type": "code",
   "execution_count": 20,
   "metadata": {},
   "outputs": [],
   "source": [
    "job = azure.quantum.Job.from_input_data(\n",
    "    workspace=workspace,\n",
    "    name=\"qir-demo\",\n",
    "    provider_id=\"rigetti\",\n",
    "    target=\"rigetti.sim.qvm\",\n",
    "    input_data_format=\"qir.v1\",\n",
    "    output_data_format=\"microsoft.quantum-results.v1\",\n",
    "    input_data=bitcode,\n",
    "    input_params={\n",
    "        \"shots\": 500,\n",
    "        \"entryPoint\": \"main\",\n",
    "        \"arguments\": []\n",
    "    }\n",
    ")"
   ]
  },
  {
   "cell_type": "code",
   "execution_count": 21,
   "metadata": {},
   "outputs": [],
   "source": [
    "info = job.details.as_dict()"
   ]
  },
  {
   "cell_type": "code",
   "execution_count": 22,
   "metadata": {},
   "outputs": [
    {
     "name": "stdout",
     "output_type": "stream",
     "text": [
      ".........."
     ]
    }
   ],
   "source": [
    "job.get_results()"
   ]
  },
  {
   "cell_type": "code",
   "execution_count": null,
   "metadata": {},
   "outputs": [],
   "source": []
  }
 ],
 "metadata": {
  "kernelspec": {
   "display_name": "Python 3.9.13 ('qir-demo')",
   "language": "python",
   "name": "python3"
  },
  "language_info": {
   "codemirror_mode": {
    "name": "ipython",
    "version": 3
   },
   "file_extension": ".py",
   "mimetype": "text/x-python",
   "name": "python",
   "nbconvert_exporter": "python",
   "pygments_lexer": "ipython3",
   "version": "3.9.13"
  },
  "orig_nbformat": 4,
  "vscode": {
   "interpreter": {
    "hash": "bab0af9feef5444aa73e4ba359d312d4bc406cf6e79ff8301d7820a51021fc04"
   }
  }
 },
 "nbformat": 4,
 "nbformat_minor": 2
}

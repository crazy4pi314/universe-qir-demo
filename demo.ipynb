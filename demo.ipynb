{
 "cells": [
  {
   "cell_type": "markdown",
   "metadata": {},
   "source": [
    "# Open source quantum development with Codespaces\n",
    "\n",
    "This notebook walks through a simple demonstration of how to go from user developed quantum programs to submitting them to be run on cloud resources, all from Python and Jupyter Notebooks. \n",
    "\n",
    "All the pieces of the demo are connected by [QIR], or quantum intermediate representation, an open specification maintained by the [QIR Alliance].\n",
    "QIR is related to LLVM in that it re-uses a lot of the LLVM spec and infrastructure so most of the standard optimizations and utilities work out of the box for quantum programs.\n",
    "\n",
    "**About the demo**\n",
    "\n",
    "The basic workflow starts in [QuTiP], a Python package that allows you to express quantum programs in a convinent way.\n",
    "From there, we will compile the program to QIR from a buil-in QuTiP function that using [PyQIR], a QIR Alliance project.\n",
    "Once programs are compiled to [QIR], we will us [qat] to run optimization passes on the QIR bitcode.\n",
    "Lastly, we will send the QIR program to the Azure Quantum service to be executed on quantum hardware.\n",
    "\n",
    "![](stack.png)\n",
    "\n",
    "*More details about the repo structrure and contents can be found in the [README](README.md).*"
   ]
  },
  {
   "cell_type": "markdown",
   "metadata": {},
   "source": [
    "---\n",
    "\n",
    "## 1. Develop quantum programs in Python"
   ]
  },
  {
   "cell_type": "markdown",
   "metadata": {},
   "source": [
    "There are a wide variety of languages and frameworks that the OSS community is using to developing quantum progams.\n",
    "Many of them either directly or via other OSS tools can compile to QIR, you can see a list of options in the [README](README.md) of this repo.\n",
    "Here we will use [QuTiP](https://qutip.org), the open source quantum toolbox for Python.\n",
    "\n",
    "_Learn more about quantum programming with the [QuTiP tutorials](https://qutip.org/tutorials#quantum-information-processing)._"
   ]
  },
  {
   "cell_type": "markdown",
   "metadata": {},
   "source": [
    "Lets start with a simple teleportation quantum program:"
   ]
  },
  {
   "cell_type": "code",
   "execution_count": null,
   "metadata": {},
   "outputs": [],
   "source": [
    "from qutip_qip.circuit import QubitCircuit\n"
   ]
  },
  {
   "cell_type": "code",
   "execution_count": null,
   "metadata": {},
   "outputs": [],
   "source": [
    "\n",
    "# Ask device for some qubits, and create a program to manipulate them\n",
    "program = QubitCircuit(3, num_cbits=2)\n",
    "msg, here, there = range(3)\n",
    "\n",
    "# Encode message\n",
    "program.add_gate(\"RZ\", targets=[msg], arg_value=0.123)\n",
    "\n",
    "# Entangle qubits\n",
    "program.add_gate(\"SNOT\", targets=[here])\n",
    "program.add_gate(\"CNOT\", targets=[there], controls=[here])\n",
    "program.add_gate(\"CNOT\", targets=[here], controls=[msg])\n",
    "program.add_gate(\"SNOT\", targets=[msg])\n",
    "\n",
    "# Measure qubits\n",
    "program.add_measurement(\"Z\", targets=[msg], classical_store=0)\n",
    "program.add_measurement(\"Z\", targets=[here], classical_store=1)\n",
    "\n",
    "# Make final operations based on measurement results\n",
    "program.add_gate(\"X\", targets=[there], classical_controls=[0])\n",
    "program.add_gate(\"Z\", targets=[there], classical_controls=[1])\n",
    "\n",
    "# Inspect the quantum program\n",
    "program.gates"
   ]
  },
  {
   "cell_type": "markdown",
   "metadata": {},
   "source": [
    "---\n",
    "\n",
    "## 2. Compile programs to QIR"
   ]
  },
  {
   "cell_type": "markdown",
   "metadata": {},
   "source": [
    "For more info on the QIR export in QuTiP, check out the [docs](https://qutip-qip.readthedocs.io/en/latest/qip-simulator.html?highlight=qir#import-and-export-quantum-circuits)."
   ]
  },
  {
   "cell_type": "code",
   "execution_count": null,
   "metadata": {},
   "outputs": [],
   "source": [
    "from qutip_qip.qir import circuit_to_qir"
   ]
  },
  {
   "cell_type": "code",
   "execution_count": null,
   "metadata": {},
   "outputs": [],
   "source": [
    "with open('output/qutip_program.bc', 'wb') as file:\n",
    "    file.write(circuit_to_qir(program, \"bitcode\"))  # type: ignore\n",
    "    \n",
    "with open('output/qutip_program.ll', 'w') as file:\n",
    "    file.write(circuit_to_qir(program, \"text\"))  # type: ignore"
   ]
  },
  {
   "cell_type": "markdown",
   "metadata": {},
   "source": [
    "Great! we now have a way of lowering high-level user code to QIR, but what does that look like?\n",
    "Let's check out part of the QIR file we just generated:"
   ]
  },
  {
   "cell_type": "code",
   "execution_count": null,
   "metadata": {},
   "outputs": [],
   "source": [
    "with open('output/qutip_program.ll', 'r') as f:\n",
    "    print(f.read())"
   ]
  },
  {
   "cell_type": "markdown",
   "metadata": {},
   "source": [
    "**NOTE:** PyQIR is a dependency for this QuTiP function, which calls the `pyqir-generator` tool to walk the quantum program and build up the LLVM bitcode. The core rust crate `qirlib` that the PyQIR package is built around can be found on [GitHub](https://github.com/qir-alliance/pyqir/tree/main/qirlib), and used separately to write quantum programs in Rust!"
   ]
  },
  {
   "cell_type": "markdown",
   "metadata": {},
   "source": [
    "---\n",
    "\n",
    "## 3. Optimize programs"
   ]
  },
  {
   "cell_type": "markdown",
   "metadata": {},
   "source": [
    "This isn't the nicest way to debug things (though really it should be only the compiler looking). Let's look at a control flow graph:"
   ]
  },
  {
   "cell_type": "code",
   "execution_count": null,
   "metadata": {},
   "outputs": [],
   "source": [
    "!opt -dot-cfg output/qutip_program.ll -o output/qutip_program.dot && mv .main.dot output/qutip_program.dot"
   ]
  },
  {
   "cell_type": "code",
   "execution_count": null,
   "metadata": {},
   "outputs": [],
   "source": [
    "!dot -Tpng output/qutip_program.dot -o output/qutip_program.png"
   ]
  },
  {
   "cell_type": "code",
   "execution_count": null,
   "metadata": {},
   "outputs": [],
   "source": [
    "!qat --apply --target-def ./qat_config.yml -S output/qutip_program.ll -o output/qutip_program_optimized.ll"
   ]
  },
  {
   "cell_type": "code",
   "execution_count": null,
   "metadata": {},
   "outputs": [],
   "source": [
    "import os\n",
    "\n",
    "from numpy import size\n",
    "print(f'Before: {os.stat(\"output/qutip_program.ll\").st_size}, {os.stat(\"output/qutip_program_optimized.ll\").st_size}')"
   ]
  },
  {
   "cell_type": "markdown",
   "metadata": {},
   "source": [
    "---\n",
    "\n",
    "## 4. a) Submitting quantum programs to the cloud\n",
    "\n",
    "Now that we have generated our qir file, we want to submit it to a cloud provider to run it against a simulator or hardware device."
   ]
  },
  {
   "cell_type": "markdown",
   "metadata": {},
   "source": [
    "We start by importing the appropriate Python package to work connect to an Azure Quantum resource."
   ]
  },
  {
   "cell_type": "code",
   "execution_count": null,
   "metadata": {},
   "outputs": [],
   "source": [
    "from azure.identity import AzureCliCredential"
   ]
  },
  {
   "cell_type": "markdown",
   "metadata": {},
   "source": [
    "NOTE: You will have to open a terminal and run `az login` to make sure your Azure credientials are stored."
   ]
  },
  {
   "cell_type": "code",
   "execution_count": null,
   "metadata": {},
   "outputs": [],
   "source": [
    "import azure.quantum\n",
    "workspace = azure.quantum.Workspace(\n",
    "    subscription_id=\"bd1621e9-9094-48e4-99f4-00256be51682\",\n",
    "    resource_group=\"AzureQuantum\",\n",
    "    name=\"qir-demo\",\n",
    "    location=\"eastus\",\n",
    "    credential=AzureCliCredential()\n",
    ")"
   ]
  },
  {
   "cell_type": "code",
   "execution_count": null,
   "metadata": {},
   "outputs": [],
   "source": [
    "with open('./output/qutip_program_simple.bc', 'rb') as f:\n",
    "    bitcode = f.read()"
   ]
  },
  {
   "cell_type": "code",
   "execution_count": null,
   "metadata": {},
   "outputs": [],
   "source": [
    "job = azure.quantum.Job.from_input_data(\n",
    "    workspace=workspace,\n",
    "    name=\"qir-demo\",\n",
    "    provider_id=\"rigetti\",\n",
    "    target=\"rigetti.sim.qvm\",\n",
    "    input_data_format=\"qir.v1\",\n",
    "    output_data_format=\"microsoft.quantum-results.v1\",\n",
    "    input_data=bitcode,\n",
    "    input_params={\n",
    "        \"shots\": 1,\n",
    "        \"entryPoint\": \"main\",\n",
    "        \"arguments\": []\n",
    "    }\n",
    ")"
   ]
  },
  {
   "cell_type": "code",
   "execution_count": null,
   "metadata": {},
   "outputs": [],
   "source": [
    "info = job.details.as_dict()"
   ]
  },
  {
   "cell_type": "code",
   "execution_count": null,
   "metadata": {},
   "outputs": [],
   "source": [
    "job.get_results()"
   ]
  },
  {
   "cell_type": "markdown",
   "metadata": {},
   "source": [
    "---\n",
    "\n",
    "## 4. b) Simulating quantum programs locally\n",
    "\n",
    "Now that we have generated our qir file, we can run it locally using [qir-runner](https://github.com/microsoft/qir-runner), a Rust based simulator that can run QIR programs.\n",
    "The project is just getting started, so we included a [pre-built binary](https://github.com/microsoft/qir-runner/actions/runs/3423320625) in the repo for you to use, but you can also build it yourself from the [GitHub repo](https://github.com/microsoft/qir-runner).\n",
    "Full build integration with the QIR Codespace is coming soon! <3"
   ]
  },
  {
   "cell_type": "markdown",
   "metadata": {},
   "source": [
    "Since qir-runner is a command line program, we can again us the `!` magic command to run it in a Jupyter Notebook cell.\n",
    "All we need to do is pass the path to the QIR file we generated in the previous step.\n",
    "The runner optionally takes the name of an entry point function, which we will skip here."
   ]
  },
  {
   "cell_type": "code",
   "execution_count": 1,
   "metadata": {},
   "outputs": [
    {
     "name": "stdout",
     "output_type": "stream",
     "text": [
      "RESULT\tARRAY_START\n",
      "RESULT\t1\n",
      "RESULT\t1\n",
      "RESULT\tARRAY_END\n"
     ]
    }
   ],
   "source": [
    "!./runner/qir-runner ./output/qutip_program_simple.bc"
   ]
  },
  {
   "cell_type": "markdown",
   "metadata": {},
   "source": [
    "We can see that we get two bits/measurement results in the same way our program submitted to Azure Quantum did!🥳"
   ]
  }
 ],
 "metadata": {
  "kernelspec": {
   "display_name": "Python 3.9.13 ('qir-demo')",
   "language": "python",
   "name": "python3"
  },
  "language_info": {
   "codemirror_mode": {
    "name": "ipython",
    "version": 3
   },
   "file_extension": ".py",
   "mimetype": "text/x-python",
   "name": "python",
   "nbconvert_exporter": "python",
   "pygments_lexer": "ipython3",
   "version": "3.9.13"
  },
  "orig_nbformat": 4,
  "vscode": {
   "interpreter": {
    "hash": "bab0af9feef5444aa73e4ba359d312d4bc406cf6e79ff8301d7820a51021fc04"
   }
  }
 },
 "nbformat": 4,
 "nbformat_minor": 2
}
